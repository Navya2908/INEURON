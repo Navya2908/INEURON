{
 "cells": [
  {
   "cell_type": "markdown",
   "metadata": {},
   "source": [
    "## 1.1 Write a Python Program(with class concepts) to find the area of the triangle using the below formula.\n",
    "area = (s*(s-a)*(s-b)*(s-c)) ** 0.5\n",
    "\n",
    "Function to take the length of the sides of triangle from user should be defined in the parent\n",
    "class and function to calculate the area should be defined in subclass."
   ]
  },
  {
   "cell_type": "code",
   "execution_count": 40,
   "metadata": {},
   "outputs": [
    {
     "name": "stdout",
     "output_type": "stream",
     "text": [
      "Tha area is  0.5149417859767794\n"
     ]
    }
   ],
   "source": [
    "import math\n",
    "\n",
    "class Side(object):\n",
    "    def __init__(self,s1,s2,s3):\n",
    "        self.s1=s1\n",
    "        self.s2=s2\n",
    "        self.s3=s3\n",
    "    \n",
    "\n",
    "class Area(Side):\n",
    "    def area(self):\n",
    "        \n",
    "        s=(self.s1+self.s2+self.s3)/2\n",
    "        area=math.sqrt(s*(s-self.s1)*(s-self.s2)*(s-self.s3)**0.5)\n",
    "        return area\n",
    "\n",
    "\n",
    "if __name__=='__main__':    \n",
    "    \n",
    "    \n",
    "    ob=Area(1,1,1)\n",
    "    ss=ob.area()\n",
    "    print(\"Tha area is \",ss)\n",
    "\n",
    "        "
   ]
  },
  {
   "cell_type": "markdown",
   "metadata": {},
   "source": [
    "## 1.2 Write a function filter_long_words() that takes a list of words and an integer n and returns the list of words that are longer than n."
   ]
  },
  {
   "cell_type": "code",
   "execution_count": 56,
   "metadata": {},
   "outputs": [
    {
     "name": "stdout",
     "output_type": "stream",
     "text": [
      "Enter the listray of sunshine falls on me \n",
      "Enter an integer7\n",
      "['ray', 'of', 'falls', 'on', 'me']\n"
     ]
    }
   ],
   "source": [
    "def filter_long_words():\n",
    "    \n",
    "    words=input('Enter the list')\n",
    "    l1=words.split()\n",
    "    n=int(input('Enter an integer'))\n",
    "    l2=[]\n",
    "    for i in l1:\n",
    "        if(len(i)<n):\n",
    "            l2.append(i)\n",
    "    \n",
    "    print(l2)\n",
    "    \n",
    "filter_long_words()\n",
    "    \n",
    "    "
   ]
  },
  {
   "cell_type": "markdown",
   "metadata": {},
   "source": [
    "## 2.1 Write a Python program using function concept that maps list of words into a list of integers representing the lengths of the corresponding words.\n",
    "Hint: If a list [ ab,cde,erty] is passed on to the python function output should come as [2,3,4]\n",
    "Here 2,3 and 4 are the lengths of the words in the list."
   ]
  },
  {
   "cell_type": "code",
   "execution_count": 59,
   "metadata": {},
   "outputs": [
    {
     "name": "stdout",
     "output_type": "stream",
     "text": [
      "Enter the listsun rises in the east\n"
     ]
    },
    {
     "data": {
      "text/plain": [
       "[3, 5, 2, 3, 4]"
      ]
     },
     "execution_count": 59,
     "metadata": {},
     "output_type": "execute_result"
    }
   ],
   "source": [
    "def len_of_words():\n",
    "    str=input(\"Enter the list\")\n",
    "    word_l1=str.split()\n",
    "    word_ln=[len(i) for i in word_l1]\n",
    "    return word_ln\n",
    "\n",
    "len_of_words()"
   ]
  },
  {
   "cell_type": "markdown",
   "metadata": {},
   "source": [
    "## 2.2 Write a Python function which takes a character (i.e. a string of length 1) and returns True if it is a vowel, False otherwise."
   ]
  },
  {
   "cell_type": "code",
   "execution_count": 63,
   "metadata": {},
   "outputs": [
    {
     "name": "stdout",
     "output_type": "stream",
     "text": [
      "Enter a charactert\n"
     ]
    },
    {
     "data": {
      "text/plain": [
       "False"
      ]
     },
     "execution_count": 63,
     "metadata": {},
     "output_type": "execute_result"
    }
   ],
   "source": [
    "def vowels():\n",
    "    vow=['a','e','i','o','u']\n",
    "    r=input(\"Enter a character\")\n",
    "    if r in vow:\n",
    "        return True\n",
    "    else:\n",
    "        return False\n",
    "\n",
    "vowels()"
   ]
  }
 ],
 "metadata": {
  "kernelspec": {
   "display_name": "Python 3",
   "language": "python",
   "name": "python3"
  },
  "language_info": {
   "codemirror_mode": {
    "name": "ipython",
    "version": 3
   },
   "file_extension": ".py",
   "mimetype": "text/x-python",
   "name": "python",
   "nbconvert_exporter": "python",
   "pygments_lexer": "ipython3",
   "version": "3.8.2"
  }
 },
 "nbformat": 4,
 "nbformat_minor": 4
}
